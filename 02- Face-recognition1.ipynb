{
 "cells": [
  {
   "cell_type": "code",
   "execution_count": 8,
   "metadata": {},
   "outputs": [],
   "source": [
    "import glob\n",
    "import dlib\n",
    "import cv2\n",
    "import pickle\n",
    "import random\n",
    "import facevec\n",
    "import numpy as np"
   ]
  },
  {
   "cell_type": "code",
   "execution_count": 9,
   "metadata": {},
   "outputs": [
    {
     "name": "stderr",
     "output_type": "stream",
     "text": [
      "C:\\ProgramData\\Anaconda3\\lib\\site-packages\\sklearn\\base.py:253: UserWarning: Trying to unpickle estimator SVC from version 0.19.1 when using version 0.20.3. This might lead to breaking code or invalid results. Use at your own risk.\n",
      "  UserWarning)\n"
     ]
    }
   ],
   "source": [
    "pickle_in = open(\"smart_security2.pickle\",\"rb\")\n",
    "classifier = pickle.load(pickle_in)"
   ]
  },
  {
   "cell_type": "code",
   "execution_count": 10,
   "metadata": {},
   "outputs": [],
   "source": [
    "name = ['Balaji Arun', 'deekshitha', 'dharshini', 'neelash', 'Unknown: ']"
   ]
  },
  {
   "cell_type": "code",
   "execution_count": 11,
   "metadata": {},
   "outputs": [],
   "source": [
    "font = cv2.FONT_HERSHEY_DUPLEX"
   ]
  },
  {
   "cell_type": "code",
   "execution_count": 12,
   "metadata": {},
   "outputs": [
    {
     "name": "stdout",
     "output_type": "stream",
     "text": [
      "exit for loop\n",
      "exit while\n"
     ]
    }
   ],
   "source": [
    "send_flag=True\n",
    "def check():\n",
    "    global flag\n",
    "    i=int(entry.get())\n",
    "    URL = \"https://techsquad20.000webhostapp.com/face/fetch_passcode.php\"\n",
    "    r = requests.get(url = URL)\n",
    "    data = r.json()\n",
    "    if(i == data):\n",
    "        flag = 1\n",
    "        root.destroy()\n",
    "    else:\n",
    "        l =tk.Label( root, text=\"enter correct one\")\n",
    "        l.grid(row=2, column=0)\n",
    "\n",
    "        \n",
    "cap = cv2.VideoCapture(0)\n",
    "c=0\n",
    "flag = 0\n",
    "\n",
    "\n",
    "while True:\n",
    "    ret, img = cap.read()\n",
    "    if not ret:\n",
    "        break\n",
    "\n",
    "    img = cv2.resize(img, (0, 0), fx=0.5, fy=0.5)\n",
    "    faces = facevec.detector(img,1)\n",
    "    \n",
    "    if len(faces) > 0:\n",
    "        for i in range(len(faces)):\n",
    "       \n",
    "    \n",
    "            f = faces[i]\n",
    "            shapes = facevec.predictor(img,f)\n",
    "            face_descriptor = facevec.face_model.compute_face_descriptor(img, shapes)\n",
    "            face_descriptor = np.array(face_descriptor)\n",
    "            descriptor = face_descriptor.reshape(1,-1)\n",
    "            gender = classifier.predict_proba(descriptor)\n",
    "            \n",
    "            if int(gender[0][gender.argmax()] * 100) >= 90:\n",
    "                person = name[gender.argmax()]\n",
    "                album = gender.argmax()\n",
    "                import tkinter as tk\n",
    "                root = tk.Tk()\n",
    "                lr=tk.Label( root, text=person )\n",
    "                lr.grid(row=0, column=0)\n",
    "                l=tk.Label( root, text=\"enter passcode\" )\n",
    "                l.grid(row=1, column=0)\n",
    "                entry = tk.Entry(root)\n",
    "                entry.grid(row=1, column=1) \n",
    "                button_calc = tk.Button(root, text=\"Check\", command=check)\n",
    "                button_calc.grid(row=3, column=0)\n",
    "                root.mainloop()\n",
    "                send_flag=True\n",
    "                \n",
    "                if(flag == 1):\n",
    "                    print(\"exit for loop\")\n",
    "                    break\n",
    "                else:\n",
    "                    print(\"not working\")\n",
    "                    \n",
    "                \n",
    "                \n",
    "\n",
    "                \n",
    "            else:\n",
    "                person = 'Unknown: '\n",
    "                album = 4\n",
    "                if c==0 and (gender[0][gender.argmax()]*100)>65:\n",
    "                    c+=1\n",
    "                    cv2.imwrite(\"Unknown.jpg\",img)\n",
    "                    send_flag=False\n",
    "                    flag=1\n",
    "                    break\n",
    "                    \n",
    "                    \n",
    "            \n",
    "\n",
    "\n",
    "            cv2.rectangle(img,(f.left(), f.top()), (f.right(),f.top()-20),(0,255,0), -1)\n",
    "            cv2.rectangle(img, (f.left(), f.top()), (f.right(), f.bottom()),(0,255,0),1)\n",
    "            cv2.putText(img,   person +\n",
    "                        str(int(gender[0][gender.argmax()] * 100))+'%', (f.left(),f.top()), font, 0.6, (255,255,255), 0)\n",
    "\n",
    "    cv2.imshow('image',img)\n",
    "    if(flag > 0):\n",
    "        print(\"exit while\")\n",
    "        break\n",
    "    if cv2.waitKey(41) & 0xff == ord('q'):\n",
    "        break\n",
    "        \n",
    "cap.release()\n",
    "\n",
    "cv2.destroyAllWindows()\n",
    "unknown_img = cv2.imread(r'C:\\Users\\test01\\Desktop\\Project\\lock1\\Unknown.jpg')\n"
   ]
  },
  {
   "cell_type": "code",
   "execution_count": 13,
   "metadata": {},
   "outputs": [
    {
     "name": "stdout",
     "output_type": "stream",
     "text": [
      "200\n"
     ]
    }
   ],
   "source": [
    "import requests\n",
    "if(send_flag==True):\n",
    "    r = requests.get('https://techsquad20.000webhostapp.com/face/check.php?sat=1')\n",
    "    print(r.status_code)\n",
    "else:\n",
    "    r = requests.get('https://techsquad20.000webhostapp.com/face/check.php?sat=0')\n",
    "    print(r.status_code)"
   ]
  },
  {
   "cell_type": "code",
   "execution_count": 14,
   "metadata": {},
   "outputs": [
    {
     "data": {
      "text/plain": [
       "<Response [404]>"
      ]
     },
     "execution_count": 14,
     "metadata": {},
     "output_type": "execute_result"
    }
   ],
   "source": [
    "import requests\n",
    "url = 'https://files.000webhost.com/public_html/face/accept.php'\n",
    "files = {'media': open('face_583.jpg', 'rb')}\n",
    "requests.post(url, files=files)"
   ]
  },
  {
   "cell_type": "code",
   "execution_count": null,
   "metadata": {},
   "outputs": [],
   "source": []
  },
  {
   "cell_type": "code",
   "execution_count": null,
   "metadata": {},
   "outputs": [],
   "source": [
    "\n",
    "\n"
   ]
  },
  {
   "cell_type": "code",
   "execution_count": null,
   "metadata": {},
   "outputs": [],
   "source": []
  }
 ],
 "metadata": {
  "kernelspec": {
   "display_name": "Python 3",
   "language": "python",
   "name": "python3"
  },
  "language_info": {
   "codemirror_mode": {
    "name": "ipython",
    "version": 3
   },
   "file_extension": ".py",
   "mimetype": "text/x-python",
   "name": "python",
   "nbconvert_exporter": "python",
   "pygments_lexer": "ipython3",
   "version": "3.7.1"
  }
 },
 "nbformat": 4,
 "nbformat_minor": 2
}
